{
  "cells": [
    {
      "cell_type": "markdown",
      "metadata": {
        "id": "view-in-github",
        "colab_type": "text"
      },
      "source": [
        "<a href=\"https://colab.research.google.com/github/Danuka97/Cryptocurrency-price-prediction/blob/main/Part_2_Forward_Propagation.ipynb\" target=\"_parent\"><img src=\"https://colab.research.google.com/assets/colab-badge.svg\" alt=\"Open In Colab\"/></a>"
      ]
    },
    {
      "cell_type": "markdown",
      "metadata": {
        "id": "wK8Z0WzxLb0J"
      },
      "source": [
        "<h1 align = 'center'> Neural Networks Demystified </h1>\n",
        "<h2 align = 'center'> Part 2: Forward Propagation </h2>\n",
        "\n",
        "\n",
        "<h4 align = 'center' > Original author: @stephencwelch </h4>\n",
        "<h4 align = 'center' > Edited by: Luca Zanotti Fragonara </h4>"
      ]
    },
    {
      "cell_type": "code",
      "execution_count": 12,
      "metadata": {
        "id": "wZA0YvFVLb0O"
      },
      "outputs": [],
      "source": [
        "#from IPython.display import YouTubeVideo\n",
        "#YouTubeVideo('UJwK6jAStmg')"
      ]
    },
    {
      "cell_type": "markdown",
      "metadata": {
        "id": "gW5DisjeMtsW"
      },
      "source": [
        "# Setting up the environment (if you are using Google Colab)\n",
        "This practical relies on multiple files. If you want to speed up the session, we are going to recall previous parts of the practical and import them in the current part. Completed parts files (e.g. partOne.py) are listed in directory for convenience. If you are using Jupyter Notebook, you should not have too much trouble: you can just point to the correct directory.\n",
        "If you are using Google Colab, it is a bit more tricky. Colab offers the possibility of importing files stored on your Google Drive in a very convenient way, as follows:"
      ]
    },
    {
      "cell_type": "code",
      "execution_count": 13,
      "metadata": {
        "colab": {
          "base_uri": "https://localhost:8080/"
        },
        "id": "3P5CMKB0MEqF",
        "outputId": "bf3e4052-1446-4c13-8db3-7e8f416f6374"
      },
      "outputs": [
        {
          "output_type": "stream",
          "name": "stdout",
          "text": [
            "Drive already mounted at /content/drive/; to attempt to forcibly remount, call drive.mount(\"/content/drive/\", force_remount=True).\n"
          ]
        }
      ],
      "source": [
        "# Load the Drive helper and mount\n",
        "from google.colab import drive\n",
        "\n",
        "# This will prompt for authorization (notice authorization will need to be re-issued everytime you run the notebook from Colab)\n",
        "drive.mount('/content/drive/')"
      ]
    },
    {
      "cell_type": "markdown",
      "metadata": {
        "id": "gr4ks-l4NKQ3"
      },
      "source": [
        "You can list the contents of your drive with the !ls command:"
      ]
    },
    {
      "cell_type": "code",
      "execution_count": 14,
      "metadata": {
        "colab": {
          "base_uri": "https://localhost:8080/"
        },
        "id": "kd2PIWNUMKjU",
        "outputId": "7fca3f7b-9778-4f52-9cbc-2e2ee857b9bd"
      },
      "outputs": [
        {
          "output_type": "stream",
          "name": "stdout",
          "text": [
            "'/content/drive/MyDrive/Practical-01_ForStudents/Part 1 Data and Architecture.ipynb'\n"
          ]
        }
      ],
      "source": [
        "# After executing the cell above, Drive\n",
        "# files will be present in \"/content/drive/My Drive/YOUR_PATH\".\n",
        "!ls \"/content/drive/MyDrive/Practical-01_ForStudents/Part 1 Data and Architecture.ipynb\""
      ]
    },
    {
      "cell_type": "markdown",
      "metadata": {
        "id": "Dh1tYbwXNSk1"
      },
      "source": [
        "In order to change the current directory you can use %cd:"
      ]
    },
    {
      "cell_type": "code",
      "execution_count": 15,
      "metadata": {
        "colab": {
          "base_uri": "https://localhost:8080/"
        },
        "id": "12p9FpUtNUVW",
        "outputId": "e86ea42e-bb02-4185-91d4-4e557aca1f49"
      },
      "outputs": [
        {
          "output_type": "stream",
          "name": "stdout",
          "text": [
            "/content/drive/MyDrive/Practical-01_ForStudents\n"
          ]
        }
      ],
      "source": [
        "%cd /content/drive/MyDrive/Practical-01_ForStudents"
      ]
    },
    {
      "cell_type": "markdown",
      "metadata": {
        "id": "vb9SkwMlLb0P"
      },
      "source": [
        "<h3 align = 'center'> Variables </h3>\n",
        "\n",
        "|Code Symbol | Math Symbol | Definition | Dimensions\n",
        "| :-: | :-: | :-: | :-: |\n",
        "|X|$$X$$|Input Data, each row in an example| (numExamples, inputLayerSize)|\n",
        "|y |$$y$$|target data|(numExamples, outputLayerSize)|\n",
        "|W1 | $$W^{(1)}$$ | Layer 1 weights | (inputLayerSize, hiddenLayerSize) |\n",
        "|W2 | $$W^{(2)}$$ | Layer 2 weights | (hiddenLayerSize, outputLayerSize) |\n",
        "|z2 | $$z^{(2)}$$ | Layer 2 activation | (numExamples, hiddenLayerSize) |\n",
        "|a2 | $$a^{(2)}$$ | Layer 2 activity | (numExamples, hiddenLayerSize) |\n",
        "|z3 | $$z^{(3)}$$ | Layer 3 activation | (numExamples, outputLayerSize) |"
      ]
    },
    {
      "cell_type": "markdown",
      "metadata": {
        "id": "EbPkxpQpNgaO"
      },
      "source": [
        "Please notice that mounting a google drive is not the only option to import files in Google Colab. For an extensive guide about input and output please refer to: https://colab.research.google.com/notebooks/io.ipynb\n"
      ]
    },
    {
      "cell_type": "markdown",
      "metadata": {
        "id": "4TLslghDLb0Q"
      },
      "source": [
        "# Part 2\n",
        "Last time, we setup our neural network on paper. This time, we’ll implement it in the programming language python. We’ll build our network as a python class and our init method will take care of instantiating important constants and variables. We’ll make these values accessible to the whole class by placing a self dot in front of each variable name."
      ]
    },
    {
      "cell_type": "markdown",
      "metadata": {
        "id": "VaYzKQLKLb0Q"
      },
      "source": [
        "Our network has 2 inputs, 3 hidden units, and 1 output. These are examples of hyperparameters. Hyperparameters are constants that establish the structure and behavior of a neural network, but are not updated as we train the network. Our learning algorithm is not capable of, for example, deciding that it needs another hidden unit, this is something that WE must decide on before training. What a neural network does learn are parameters, specifically the weights on the synapses."
      ]
    },
    {
      "cell_type": "markdown",
      "metadata": {
        "id": "VJLL24QpLb0R"
      },
      "source": [
        "We’ll take care of moving data through our network in a method called forward. Rather than pass inputs through the network one at a time, we’re going to use matrices to pass through multiple inputs at once. Doing this allows for big computational speedups, especially when using tools like MATLAB or Numpy. Our input data matrix, **X**, is of dimension 3 by 2, because we have 3, 2-dimensional examples. Our corresponding output data, y, is of dimension 3 by 1."
      ]
    },
    {
      "cell_type": "code",
      "execution_count": 16,
      "metadata": {
        "id": "qRFHG6ROLb0R",
        "colab": {
          "base_uri": "https://localhost:8080/"
        },
        "outputId": "2e1c9ac1-6c5f-4f9f-eab6-8c6a90d4dce2"
      },
      "outputs": [
        {
          "output_type": "stream",
          "name": "stdout",
          "text": [
            "Populating the interactive namespace from numpy and matplotlib\n"
          ]
        }
      ],
      "source": [
        "#When the %pylab magic function is entered at the IPython prompt, it triggers the import of various modules within Matplotlib and numpy as np\n",
        "%pylab inline\n",
        "\n",
        "#Import code from last time as an useful starting point\n",
        "from partOne import *"
      ]
    },
    {
      "cell_type": "code",
      "execution_count": 17,
      "metadata": {
        "colab": {
          "base_uri": "https://localhost:8080/"
        },
        "id": "lGeK7NU1Lb0R",
        "outputId": "06b80894-2e89-411e-b084-d83f7dafce42"
      },
      "outputs": [
        {
          "output_type": "stream",
          "name": "stdout",
          "text": [
            "(3, 2) (3, 1)\n"
          ]
        }
      ],
      "source": [
        "print(X.shape, y.shape)"
      ]
    },
    {
      "cell_type": "code",
      "execution_count": 18,
      "metadata": {
        "id": "Rcep7wubLb0R"
      },
      "outputs": [],
      "source": [
        "#Define a new Neural_Network class that we are going to use in the following parts, adding various methods to it:\n",
        "class Neural_Network(object):\n",
        "    def __init__(self,input_nodes, hidden_nodes, output_nodes):        \n",
        "        #Define Hyperparameters\n",
        "        self.inputLayerSize = input_nodes #YOUR CODE HERE\n",
        "        self.outputLayerSize = output_nodes #YOUR CODE HERE\n",
        "        self.hiddenLayerSize = hidden_nodes #YOUR CODE HERE\n",
        "\n",
        "        self.W_input = np.random.randn(self.input_nodes,self.hidden_nodes)\n",
        "        self,W_output = np.random.randn(self.hidden_nodes,self.output_nodes)\n",
        "        \n",
        "    def forward(self, X):\n",
        "        #Propagate inputs though network\n",
        "        self.h1 = np.dot(X,self.W_input)\n",
        "        self.a2 = self.singmoid(self.h1)\n",
        "        self.h2 = np.dot(self.a2,self,W_output)\n",
        "        yHat = sigmoid(self.h2)\n",
        "        return yHat\n",
        "    def singmoid(self,h):\n",
        "      return 1/(1+np.exp(-h))"
      ]
    },
    {
      "cell_type": "markdown",
      "metadata": {
        "id": "B_jebZv1Lb0S"
      },
      "source": [
        "Each input value, or element in matrix **X**, needs to be multiplied by a corresponding weight and then added together with all the other results for each neuron. This is a complex operation, but if we take the three outputs we're looking for as a single row of a matrix, and place all our individual weights into a matrix of weights, we can create the exact behavior we need by multiplying our input data matrix by our weight matrix. Using matrix multiplication allows us to pass multiple inputs through at once by simply adding rows to the matrix **X**. From here on out, we'll refer to these matrics as **X**, **W** one, and **z** two, where z two the activity of our second layer. Notice that each entry in **z** is a sum of weighted inputs to each hidden neuron. **Z** is of size 3 by 3, one row for each example, and one column for each hidden unit."
      ]
    },
    {
      "cell_type": "markdown",
      "metadata": {
        "id": "zGD5tdk4Lb0S"
      },
      "source": [
        "We now have our first official formula, $z^{(2)} = XW^{(1)}$. Matrix notation is really nice here, because it allows us to express the complex underlying process in a single line!"
      ]
    },
    {
      "cell_type": "markdown",
      "metadata": {
        "id": "yGM70tdULb0S"
      },
      "source": [
        "$$\n",
        "z^{(2)} = XW^{(1)} \\tag{1}\\\\\n",
        "$$\n"
      ]
    },
    {
      "cell_type": "markdown",
      "metadata": {
        "id": "stypujHuLb0S"
      },
      "source": [
        "## Sigmoid activation function\n",
        "Now that we have the activities for our second layer, z two, we need to apply the activation function. We'll independently apply the function to each entry in matrix z using a python method for this called sigmoid, because we’re using a sigmoid as our activation function. Using numpy is really nice here, because we can pass in a scalar, vector, or matrix, Numpy will apply the activation function element-wise, and return a result of the same dimension as it was given."
      ]
    },
    {
      "cell_type": "code",
      "execution_count": 19,
      "metadata": {
        "id": "EbnewixALb0T"
      },
      "outputs": [],
      "source": [
        "def sigmoid(z):\n",
        "    #Apply sigmoid activation function to scalar, vector, or matrix\n",
        "    return 1/(1+np.exp(-z)) #YOUR CODE HERE"
      ]
    },
    {
      "cell_type": "code",
      "execution_count": 20,
      "metadata": {
        "colab": {
          "base_uri": "https://localhost:8080/",
          "height": 265
        },
        "id": "bJO7uNhULb0T",
        "outputId": "b6edefa0-e998-45bd-80c1-4a2346155936"
      },
      "outputs": [
        {
          "output_type": "display_data",
          "data": {
            "image/png": "[encoded data removed]",
            "text/plain": [
              "<Figure size 432x288 with 1 Axes>"
            ]
          },
          "metadata": {
            "needs_background": "light"
          }
        }
      ],
      "source": [
        "testInput = np.arange(-6,6,0.01)\n",
        "plot(testInput, sigmoid(testInput), linewidth= 2)\n",
        "grid(1)"
      ]
    },
    {
      "cell_type": "code",
      "execution_count": 21,
      "metadata": {
        "colab": {
          "base_uri": "https://localhost:8080/"
        },
        "id": "t0rP13sWLb0T",
        "outputId": "9a64c4b7-f08e-480a-dddd-3b2cb192ef56"
      },
      "outputs": [
        {
          "output_type": "execute_result",
          "data": {
            "text/plain": [
              "0.7310585786300049"
            ]
          },
          "metadata": {},
          "execution_count": 21
        }
      ],
      "source": [
        "#Compute the sigmoid of 1\n",
        "sigmoid(1)\n",
        "    \n",
        "#Expected Output should be:\n",
        "# 0.7310585786300049"
      ]
    },
    {
      "cell_type": "code",
      "execution_count": 22,
      "metadata": {
        "colab": {
          "base_uri": "https://localhost:8080/"
        },
        "id": "wP5u9i9OLb0T",
        "outputId": "41f33f4d-f9cc-4387-96e8-c08c492ea479"
      },
      "outputs": [
        {
          "output_type": "execute_result",
          "data": {
            "text/plain": [
              "array([0.26894142, 0.5       , 0.73105858])"
            ]
          },
          "metadata": {},
          "execution_count": 22
        }
      ],
      "source": [
        "#Compute the sigmoid for an 1x3 array [-1,0,1]\n",
        "sigmoid(np.array([-1,0,1]))\n",
        "\n",
        "#Expected Output should be: \n",
        "# array([0.26894142, 0.5       , 0.73105858])"
      ]
    },
    {
      "cell_type": "code",
      "execution_count": 23,
      "metadata": {
        "colab": {
          "base_uri": "https://localhost:8080/"
        },
        "id": "uStHaHHBLb0U",
        "outputId": "7ad4698a-8f81-456a-c01b-ab3a23e38052"
      },
      "outputs": [
        {
          "output_type": "execute_result",
          "data": {
            "text/plain": [
              "array([[0.37845547, 0.40438437, 0.42241225],\n",
              "       [0.65799764, 0.68466675, 0.6750304 ],\n",
              "       [0.31861049, 0.42982824, 0.46262439]])"
            ]
          },
          "metadata": {},
          "execution_count": 23
        }
      ],
      "source": [
        "sigmoid(np.random.randn(3,3))"
      ]
    },
    {
      "cell_type": "markdown",
      "metadata": {
        "id": "hv43h3M-Lb0U"
      },
      "source": [
        " We now have our second formula for forward propagation, using f to denote our activation function, we can write that a two, our second layer activity, is equal to f of z two. a two will be a matrix of the same size as z two, 3 by 3."
      ]
    },
    {
      "cell_type": "markdown",
      "metadata": {
        "id": "IPqILVCFLb0U"
      },
      "source": [
        "$$\n",
        "a^{(2)} = f(z^{(2)}) \\tag{2}\\\\\n",
        "$$"
      ]
    },
    {
      "cell_type": "markdown",
      "metadata": {
        "id": "S6WIvCIYLb0U"
      },
      "source": [
        "To finish forward propagation we need to propagate a two all the way to the output, yhat. We've already done the heavy lifting in the previous layer, so all we have to do now is multiply a two by our second layer weights W2 and apply one more activation funcion. W2 will be of size 3x1, one weight for each synapse. Multiplying a2, a 3 by 3, by W2, a 3 by 1 results in a 3 by 1 matrix z three, the activity or our third layer. z3 has three activity values, one for each example. Last but not least, we'll apply our activation function to z three yielding our official estimate of your test score, yHat.  "
      ]
    },
    {
      "cell_type": "markdown",
      "metadata": {
        "id": "LaUxqX3tLb0U"
      },
      "source": [
        "$$\n",
        "z^{(3)} = a^{(2)}W^{(2)} \\tag{3}\\\\\n",
        "$$\n",
        "$$\n",
        "\\hat{y} = f(z^{(3)}) \\tag{4}\\\\\n",
        "$$"
      ]
    },
    {
      "cell_type": "markdown",
      "metadata": {
        "id": "2qjZz3BCLb0V"
      },
      "source": [
        "We need to implement our forward propagation formulas in python. First we'll initialize our weight matrices in our init method. For starting values, we'll use random numbers. "
      ]
    },
    {
      "cell_type": "markdown",
      "metadata": {
        "id": "TIiLtfZ5Lb0V"
      },
      "source": [
        "## Forward propagation\n",
        "We'll implement forward propagation in our forward method, using numpy's built in dot (np.dot) method for matrix multiplication and our own sigmoid method. "
      ]
    },
    {
      "cell_type": "code",
      "execution_count": 24,
      "metadata": {
        "id": "13UBHsPPLb0V"
      },
      "outputs": [],
      "source": [
        "class Neural_Network(object):\n",
        "    def __init__(self):        \n",
        "        #Define Hyperparameters\n",
        "        self.inputLayerSize = 2 #YOUR CODE HERE\n",
        "        self.outputLayerSize = 1 #YOUR CODE HERE\n",
        "        self.hiddenLayerSize = 3 #YOUR CODE HERE\n",
        "        \n",
        "        #Weights (parameters) - random initialization according to layer dimensions\n",
        "        self.W1 = np.random.randn(self.inputLayerSize,self.hiddenLayerSize) #YOUR CODE HERE\n",
        "        self.W2 = np.random.randn(self.hiddenLayerSize,self.outputLayerSize) #YOUR CODE HERE\n",
        "        \n",
        "    def forward(self, X):\n",
        "        #Propagate inputs though network\n",
        "        self.z2 = np.dot(X, self.W1) #YOUR CODE HERE\n",
        "        self.a2 = self.sigmoid(self.z2) #YOUR CODE HERE\n",
        "        self.z3 = np.dot(self.a2, self.W2)#YOUR CODE HERE\n",
        "        yHat = self.sigmoid(self.z3) #YOUR CODE HERE\n",
        "        return yHat\n",
        "        \n",
        "    def sigmoid(self, z):\n",
        "        #Apply sigmoid activation function to scalar, vector, or matrix\n",
        "        return 1/(1+np.exp(-z)) #YOUR CODE HERE"
      ]
    },
    {
      "cell_type": "markdown",
      "metadata": {
        "id": "T4zo632Ma0dI"
      },
      "source": [
        "And there you have it, a Python class capable of estimating your test score given how many hours you sleep and how many hours you study. We can pass in our input data and get real outputs. Now, you may be noticing that our estimates are quite terrible. That's because we have not yet trained our network, that's what we'll work on next time."
      ]
    }
  ],
  "metadata": {
    "colab": {
      "collapsed_sections": [],
      "name": "Part 2 Forward Propagation.ipynb",
      "provenance": [],
      "include_colab_link": true
    },
    "kernelspec": {
      "display_name": "Python 3",
      "language": "python",
      "name": "python3"
    },
    "language_info": {
      "codemirror_mode": {
        "name": "ipython",
        "version": 3
      },
      "file_extension": ".py",
      "mimetype": "text/x-python",
      "name": "python",
      "nbconvert_exporter": "python",
      "pygments_lexer": "ipython3",
      "version": "3.7.3"
    }
  },
  "nbformat": 4,
  "nbformat_minor": 0
}